{
 "cells": [
  {
   "cell_type": "code",
   "execution_count": 1,
   "id": "a9ed6b54-f74e-4341-bf36-10d5cc01a09e",
   "metadata": {},
   "outputs": [],
   "source": [
    "import numpy as np\n",
    "import pandas as pd\n",
    "import matplotlib.pyplot as plt"
   ]
  },
  {
   "cell_type": "markdown",
   "id": "20b95bf1",
   "metadata": {},
   "source": [
    "### 1. Phoneme Dataset\n",
    "Load the phoneme dataset using Pandas\n"
   ]
  },
  {
   "cell_type": "code",
   "execution_count": 3,
   "id": "7a52d71d-9d21-4880-9e07-bca9e3dd822a",
   "metadata": {},
   "outputs": [
    {
     "name": "stdout",
     "output_type": "stream",
     "text": [
      "(4509, 256)\n"
     ]
    }
   ],
   "source": [
    "df = pd.read_csv('data/phoneme.csv')\n",
    "# print(data)\n",
    "\n",
    "# For the speaker variable, as well as the phoneme variable `g`, we can make use of the pandas `category` data type\n",
    "df = df.astype({'g':'category','speaker':'category'})\n",
    "\n",
    "X = np.array(df.drop(['row.names', 'g', 'speaker'], axis=1))\n",
    "\n",
    "speaker = df.speaker\n",
    "\n",
    "# Split the dataset into a train and test dataset according to column \"speaker\".\n",
    "# Be sure to exclude row number, \"speaker\" and response columns from your features.\n",
    "\n",
    "cat_names = df.g.cat.categories\n",
    "y = df.g.cat.codes\n",
    "\n",
    "y = np.array(y)\n",
    "X = np.array(X)\n",
    "print(X.shape)"
   ]
  },
  {
   "cell_type": "code",
   "execution_count": 4,
   "id": "96b116fb-ce7d-4484-8324-1c9c01f937ad",
   "metadata": {},
   "outputs": [],
   "source": [
    "def split_by(X,y,tst_by):\n",
    "    from types import SimpleNamespace\n",
    "    return SimpleNamespace(x_tst=X[tst_by],y_tst=y[tst_by],\n",
    "                           x_trn=X[~tst_by],y_trn=y[~tst_by])\n",
    "\n",
    "data = split_by(X,y,tst_by=df.speaker.str.startswith('test'))"
   ]
  },
  {
   "cell_type": "markdown",
   "id": "e1545466-f4b8-4dac-aedc-23a28aaa34ba",
   "metadata": {},
   "source": [
    "### 2. LDA modelling\n",
    "Fit an LDA model. Compute and report the train and test error."
   ]
  },
  {
   "cell_type": "code",
   "execution_count": 5,
   "id": "c07740f4-6f7c-4f7f-9186-e808c6a1234a",
   "metadata": {},
   "outputs": [
    {
     "name": "stdout",
     "output_type": "stream",
     "text": [
      "The accuracy of the model is:\n",
      "Train:\t94.4012%\n",
      "Test:\t91.9589%\n"
     ]
    }
   ],
   "source": [
    "from sklearn.discriminant_analysis import LinearDiscriminantAnalysis\n",
    "from sklearn.metrics import confusion_matrix\n",
    "from sklearn.metrics import ConfusionMatrixDisplay\n",
    "\n",
    "def fit_discriminant_analysis(data, cls=LinearDiscriminantAnalysis,quiet=False):\n",
    "    from types import SimpleNamespace\n",
    "    clf = cls()\n",
    "    clf.fit(data.x_trn, data.y_trn)\n",
    "    def get_model_acc(X, y):\n",
    "        pred = clf.predict(X)\n",
    "        return np.mean(pred == y)\n",
    "    acc_trn = get_model_acc(data.x_trn,data.y_trn)\n",
    "    acc_tst = get_model_acc(data.x_tst,data.y_tst)\n",
    "    if not quiet:\n",
    "        print(f'The accuracy of the model is:\\nTrain:\\t{acc_trn*100:.4f}%\\nTest:\\t{acc_tst*100:.4f}%')\n",
    "    return clf,SimpleNamespace(trn=acc_trn, tst=acc_tst)\n",
    "clf_lda6,acc_lda6 = fit_discriminant_analysis(data)\n"
   ]
  },
  {
   "cell_type": "markdown",
   "id": "d2205c6e-02cf-4228-8f81-9396308ba0f7",
   "metadata": {},
   "source": [
    "### 3. LDA on different phonemes\n",
    "For every pair of phenomes select the corresponding data points. Fit an LDA model on all data sets and repeat the steps done in (2). Explain your findings."
   ]
  },
  {
   "cell_type": "code",
   "execution_count": 30,
   "id": "a808e1b7-4ff1-4ed3-976b-a9609a1fa001",
   "metadata": {},
   "outputs": [
    {
     "name": "stdout",
     "output_type": "stream",
     "text": [
      "LDA for sh iy\n",
      "The accuracy of the model is:\n",
      "Train:\t100.0000%\n",
      "Test:\t100.0000%\n",
      "LDA for sh dcl\n",
      "The accuracy of the model is:\n",
      "Train:\t99.9174%\n",
      "Test:\t100.0000%\n",
      "LDA for sh aa\n",
      "The accuracy of the model is:\n",
      "Train:\t100.0000%\n",
      "Test:\t100.0000%\n",
      "LDA for sh ao\n",
      "The accuracy of the model is:\n",
      "Train:\t100.0000%\n",
      "Test:\t100.0000%\n",
      "LDA for iy dcl\n",
      "The accuracy of the model is:\n",
      "Train:\t100.0000%\n",
      "Test:\t98.6166%\n",
      "LDA for iy aa\n",
      "The accuracy of the model is:\n",
      "Train:\t100.0000%\n",
      "Test:\t100.0000%\n",
      "LDA for iy ao\n",
      "The accuracy of the model is:\n",
      "Train:\t100.0000%\n",
      "Test:\t99.8258%\n",
      "LDA for dcl aa\n",
      "The accuracy of the model is:\n",
      "Train:\t99.9075%\n",
      "Test:\t100.0000%\n",
      "LDA for dcl ao\n",
      "The accuracy of the model is:\n",
      "Train:\t100.0000%\n",
      "Test:\t100.0000%\n",
      "LDA for aa ao\n",
      "The accuracy of the model is:\n",
      "Train:\t89.3584%\n",
      "Test:\t78.5877%\n"
     ]
    }
   ],
   "source": [
    "import itertools\n",
    "def filter_y(data, keep_only):\n",
    "    from types import SimpleNamespace\n",
    "    idx_tst = np.isin(data.y_tst,keep_only)\n",
    "    idx_trn = np.isin(data.y_trn,keep_only)\n",
    "    return SimpleNamespace(x_tst=data.x_tst[idx_tst,:],y_tst=data.y_tst[idx_tst],\n",
    "                           x_trn=data.x_trn[idx_trn,:],y_trn=data.y_trn[idx_trn])\n",
    "    \n",
    "\n",
    "\n",
    "for vo1,vo2 in itertools.combinations(['sh', 'iy', 'dcl', 'aa', 'ao'],2):\n",
    "    print(\"LDA for\", vo1,vo2)\n",
    "    idl_kept = np.where(cat_names.isin([vo1,vo2]))[0]\n",
    "    cat_names2 = cat_names[idl_kept]\n",
    "    data2 = filter_y(data, idl_kept)\n",
    "    clf_lda2,acc_lda2 = fit_discriminant_analysis(data2)"
   ]
  },
  {
   "cell_type": "markdown",
   "id": "7ffcaec7",
   "metadata": {},
   "source": [
    "The vocalization of \"aa\" and \"ao\" is similar, in contrast to the other pairs. -> Harder to distinguish,\n",
    "which may explain difference in performance."
   ]
  },
  {
   "cell_type": "markdown",
   "id": "2b231d3e",
   "metadata": {},
   "source": [
    "### 4. QDA\n",
    "Repeat steps (b) and (d) using QDA and report your findings. Would you prefer LDA or QDA in this example? Why?"
   ]
  },
  {
   "cell_type": "code",
   "execution_count": 29,
   "id": "00def2e1-5b5f-4e91-89ad-f5817915c6be",
   "metadata": {},
   "outputs": [
    {
     "name": "stdout",
     "output_type": "stream",
     "text": [
      "QDA for sh iy\n",
      "The accuracy of the model is:\n",
      "Train:\t100.0000%\n",
      "Test:\t99.8131%\n",
      "QDA for sh dcl\n",
      "The accuracy of the model is:\n",
      "Train:\t100.0000%\n",
      "Test:\t99.2840%\n",
      "QDA for sh aa\n",
      "The accuracy of the model is:\n",
      "Train:\t100.0000%\n",
      "Test:\t98.0000%\n",
      "QDA for sh ao\n",
      "The accuracy of the model is:\n",
      "Train:\t100.0000%\n",
      "Test:\t99.7947%\n",
      "QDA for iy dcl\n",
      "The accuracy of the model is:\n",
      "Train:\t100.0000%\n",
      "Test:\t94.0711%\n",
      "QDA for iy aa\n",
      "The accuracy of the model is:\n",
      "Train:\t100.0000%\n",
      "Test:\t98.1520%\n",
      "QDA for iy ao\n",
      "The accuracy of the model is:\n",
      "Train:\t100.0000%\n",
      "Test:\t99.8258%\n",
      "QDA for dcl aa\n",
      "The accuracy of the model is:\n",
      "Train:\t100.0000%\n",
      "Test:\t97.8437%\n",
      "QDA for dcl ao\n",
      "The accuracy of the model is:\n",
      "Train:\t100.0000%\n",
      "Test:\t100.0000%\n",
      "QDA for aa ao\n",
      "The accuracy of the model is:\n",
      "Train:\t100.0000%\n",
      "Test:\t66.0592%\n"
     ]
    }
   ],
   "source": [
    "from sklearn.discriminant_analysis import QuadraticDiscriminantAnalysis\n",
    "for vo1,vo2 in itertools.combinations(['sh', 'iy', 'dcl', 'aa', 'ao'],2):\n",
    "    print(\"QDA for\", vo1,vo2)\n",
    "    idl_kept = np.where(cat_names.isin([vo1,vo2]))[0]\n",
    "    cat_names2 = cat_names[idl_kept]\n",
    "    data2 = filter_y(data, idl_kept)\n",
    "    clf_lda2,acc_lda2 = fit_discriminant_analysis(data2,cls=QuadraticDiscriminantAnalysis)\n"
   ]
  },
  {
   "cell_type": "markdown",
   "id": "b2d7daa5",
   "metadata": {},
   "source": [
    "LDA is preferable, since QDA overfits. Train Accuracy >> Test accuracy."
   ]
  },
  {
   "cell_type": "markdown",
   "id": "019d08a3",
   "metadata": {},
   "source": [
    "### 5. Confusion Matrices\n",
    "Generate confusion matrices for the LDA and QDA model for the combination of phenomes, which proved to be the hardest to classify. "
   ]
  },
  {
   "cell_type": "code",
   "execution_count": 31,
   "id": "2b21c440-c599-48d9-b398-a4b902e4d58b",
   "metadata": {},
   "outputs": [],
   "source": [
    "def show_cm(X,y,clf, nrm=False):\n",
    "    cm = confusion_matrix(y, clf.predict(X))\n",
    "    if nrm:\n",
    "        cm = cm/cm.sum()*100\n",
    "    cm_display = ConfusionMatrixDisplay(cm).plot(ax=plt.gca())\n",
    "    plt.xticks([0,1],cat_names2)\n",
    "    plt.yticks([0,1],cat_names2)\n",
    "\n",
    "def show_data_cm(data, clf, nrm=False):\n",
    "    plt.figure(figsize=(14,5))\n",
    "    plt.subplot(1,2,1)\n",
    "    plt.title('Train')\n",
    "    show_cm(data.x_trn,data.y_trn,clf,nrm=nrm)\n",
    "    plt.subplot(1,2,2)\n",
    "    plt.title('Test')\n",
    "    show_cm(data.x_tst,data.y_tst,clf,nrm=nrm)\n",
    "\n",
    "idl_kept = np.where(cat_names.isin([vo1,vo2]))[0]\n",
    "cat_names2 = cat_names[idl_kept]\n",
    "data2 = filter_y(data, idl_kept)"
   ]
  },
  {
   "cell_type": "markdown",
   "id": "218f7089-6905-43e4-aa69-15a396f88d77",
   "metadata": {},
   "source": [
    "For LDA we compute the confusion matrices"
   ]
  },
  {
   "cell_type": "code",
   "execution_count": 33,
   "id": "aaf25ebd-de91-4495-ae15-92cc512c2f4c",
   "metadata": {},
   "outputs": [
    {
     "name": "stdout",
     "output_type": "stream",
     "text": [
      "The accuracy of the model is:\n",
      "Train:\t89.3584%\n",
      "Test:\t78.5877%\n"
     ]
    },
    {
     "data": {
      "image/png": "[encoded data removed]",
      "text/plain": [
       "<Figure size 1400x500 with 4 Axes>"
      ]
     },
     "metadata": {},
     "output_type": "display_data"
    }
   ],
   "source": [
    "clf_lda,_ = fit_discriminant_analysis(data2,cls=LinearDiscriminantAnalysis)\n",
    "show_data_cm(data2, clf_lda)"
   ]
  },
  {
   "cell_type": "markdown",
   "id": "3a87f37a-8b46-4189-bc05-d83bf7e6639c",
   "metadata": {},
   "source": [
    "For QDA they become"
   ]
  },
  {
   "cell_type": "code",
   "execution_count": 35,
   "id": "9f4e0eea-d263-46e2-9789-081690c943fe",
   "metadata": {},
   "outputs": [
    {
     "name": "stdout",
     "output_type": "stream",
     "text": [
      "The accuracy of the model is:\n",
      "Train:\t100.0000%\n",
      "Test:\t66.0592%\n"
     ]
    },
    {
     "data": {
      "image/png": "[encoded data removed]",
      "text/plain": [
       "<Figure size 1400x500 with 4 Axes>"
      ]
     },
     "metadata": {},
     "output_type": "display_data"
    }
   ],
   "source": [
    "clf_qda,_ = fit_discriminant_analysis(data2,cls=QuadraticDiscriminantAnalysis)\n",
    "show_data_cm(data2, clf_qda)"
   ]
  },
  {
   "cell_type": "markdown",
   "id": "6cb2eaae-cca3-4561-a1e6-3f17fbbeb6f0",
   "metadata": {},
   "source": [
    "In this example we can see that QDA is clearly overfitting the two phonemes, since its training accuracy is 100%, but the testing accuracy is very low.\n",
    "\n",
    "In addition, the predictor opts much more in favour of the most likely class, which is class 1, and the errors are not balanced between the two classes.\n",
    "\n",
    "Therefore, the simpler model of LDA is preferred."
   ]
  }
 ],
 "metadata": {
  "kernelspec": {
   "display_name": "Python 3 (ipykernel)",
   "language": "python",
   "name": "python3"
  }
 },
 "nbformat": 4,
 "nbformat_minor": 5
}
